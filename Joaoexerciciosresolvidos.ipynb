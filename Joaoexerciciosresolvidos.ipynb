{
 "cells": [
  {
   "cell_type": "code",
   "execution_count": null,
   "metadata": {},
   "outputs": [],
   "source": [
    "print('Alô mundo')"
   ]
  },
  {
   "cell_type": "code",
   "execution_count": null,
   "metadata": {},
   "outputs": [],
   "source": [
    "x = input(\"O número escolhido foi: \", )"
   ]
  },
  {
   "cell_type": "code",
   "execution_count": null,
   "metadata": {},
   "outputs": [],
   "source": [
    "notaA = input(\"Nota final de Geografia: \", )\n",
    "notaB = input(\"Nota final de Inglês: \", )\n",
    "notaC = input(\"Nota final de História: \", )\n",
    "notaD = input(\"Nota final de Português:\", )\n",
    "\n",
    "Media_bimestre = (float(notaA) + float(notaB) + float(notaC) + float(notaD)) /4\n",
    "\n",
    "print(\"Sua média neste bimestre foi: \", Media_bimestre)\n",
    "\n",
    "if Media_bimestre > 15:\n",
    "    print(\"Parabéns, você foi aprovado\")\n",
    "else:\n",
    "    print(\"Recuperação neste bimestre\")"
   ]
  },
  {
   "cell_type": "code",
   "execution_count": null,
   "metadata": {},
   "outputs": [],
   "source": [
    "a = input(\"Insira um número: \", )\n",
    "b = input(\"Insira um número: \", )\n",
    "\n",
    "resultado = (int(a)+ int(b))\n",
    "\n",
    "print(resultado)"
   ]
  },
  {
   "cell_type": "code",
   "execution_count": null,
   "metadata": {},
   "outputs": [],
   "source": [
    "a = input(\"Informe uma medida do quadrado: \", )\n",
    "\n",
    "resultado = (int(a) ** int(2))\n",
    "\n",
    "print(resultado)"
   ]
  },
  {
   "cell_type": "code",
   "execution_count": null,
   "metadata": {},
   "outputs": [],
   "source": [
    "a = float(input(\"Qual seu valor hora:R$ \", ))\n",
    "b = input(\"Quantas horas por mês trabalha? \", )\n",
    "\n",
    "salario_mensal = (float(a) * int(b))\n",
    "\n",
    "print(\"seu salário mensal é de: R$ \", salario_mensal)"
   ]
  },
  {
   "cell_type": "code",
   "execution_count": null,
   "metadata": {},
   "outputs": [],
   "source": [
    "F = float(input(\"Informa a temperatura em Fº: \"))\n",
    "\n",
    "C = float(5* (F - 32) / 9)\n",
    "\n",
    "print(\"A temperatura em Cº é: \", C)\n"
   ]
  },
  {
   "cell_type": "code",
   "execution_count": null,
   "metadata": {},
   "outputs": [],
   "source": [
    "C = float(input(\"Informe a temperatura em Cº: \", ))\n",
    "\n",
    "F = float((1.8 * C) + 32)\n",
    "\n",
    "print(\"A temperatura em Fº é: \", F)"
   ]
  },
  {
   "cell_type": "code",
   "execution_count": null,
   "metadata": {},
   "outputs": [],
   "source": [
    "a = int(input(\"Informe A1: \", ))\n",
    "b = int(input(\"Informe A2: \", ))\n",
    "c = float(input(\"Informe A3: \", ))\n",
    "\n",
    "A = float(2 *(a + 0.5 * b))\n",
    "B = float(3 * (a) + c)\n",
    "C = float(c ** 3)\n",
    "\n",
    "print(A)\n",
    "print(B)\n",
    "print(C)"
   ]
  },
  {
   "cell_type": "code",
   "execution_count": null,
   "metadata": {},
   "outputs": [],
   "source": [
    "C = input(\"informe seu sexo: \", )\n",
    "A = float(input(\"Informe sua altura: \", ))\n",
    "B = float(input(\"Informe seu peso atual: \", ))\n",
    "\n",
    "if C == \"H\":\n",
    "    P = float((72.7 * A) - 58)\n",
    "    D = float(B - P)\n",
    "    \n",
    "else:\n",
    "    P = float((62.1 * A) - 44.7)\n",
    "    D = int(B - P)\n",
    "\n",
    "    \n",
    "print(\"Seu peso ideal é: \", P, \" kg\")\n",
    "print(\"Você está \", D, \"acima do seu peso ideal\")"
   ]
  },
  {
   "cell_type": "code",
   "execution_count": null,
   "metadata": {},
   "outputs": [],
   "source": [
    "Peso_SP = 50\n",
    "Peso = float(input(\" Informe a quantidade pescada: \",  ))\n",
    "\n",
    "Excesso = Peso - Peso_SP\n",
    "Multa = (Peso - Peso_SP) * 4\n",
    "\n",
    "if Peso >= Peso_SP:\n",
    "    print(\"Quantidade pescada acima da lei: \", Excesso, \"Kg\")\n",
    "    print(\"Multa a ser pago por excesso: R$ \", Multa)\n",
    "\n",
    "else:\n",
    "    print(\"Sua pesca está dentro do limite permitido\")"
   ]
  },
  {
   "cell_type": "code",
   "execution_count": null,
   "metadata": {},
   "outputs": [],
   "source": [
    "a = float(input(\"Qual seu valor hora:R$ \", ))\n",
    "b = input(\"Quantas horas por mês trabalha? \", )\n",
    "\n",
    "salario_bruto = (float(a) * int(b))\n",
    "IR = float(salario_bruto * 0.11)\n",
    "INSS = float(salario_bruto * 0.08)\n",
    "sindicato = float(salario_bruto * 0.05)\n",
    "salario_liquido = float(salario_bruto - INSS - IR - sindicato)\n",
    "\n",
    "print(\"Salario Bruto:R$ \", salario_bruto)\n",
    "print(\"Valor descontado IR:R$ \", IR)\n",
    "print(\"Valor descontado INSS:R$ \", INSS)\n",
    "print(\"Valor descontado Sindicato: R$\", sindicato)\n",
    "print(\"Valor Salário líquido:R$ \", salario_liquido)"
   ]
  },
  {
   "cell_type": "code",
   "execution_count": null,
   "metadata": {},
   "outputs": [],
   "source": [
    "a = float(input(\"Imprima valor A: \", ))\n",
    "b = float(input(\" Imprima valor B: \", ))\n",
    "\n",
    "if a > b:\n",
    "    print(a)\n",
    "else:\n",
    "    print(b)"
   ]
  },
  {
   "cell_type": "code",
   "execution_count": null,
   "metadata": {},
   "outputs": [],
   "source": [
    "n = int(input(\"Escreva o número N:\", ))\n",
    "\n",
    "if n > 0:\n",
    "    print(\"O número é positivo\")\n",
    "else:\n",
    "    print(\"O número é negativo\")\n"
   ]
  },
  {
   "cell_type": "code",
   "execution_count": null,
   "metadata": {},
   "outputs": [],
   "source": [
    "a = float(input(\"Nota A: \",))\n",
    "b = float(input(\"Nota B: \", ))\n",
    "\n",
    "media = ((float(a) + float(b)) / 2)\n",
    "\n",
    "print(media)\n",
    "\n",
    "if media == 10.0:\n",
    "    print(\"Aprovado com mérito\")\n",
    "elif media >= 7:\n",
    "    print(\"Aprovado\")\n",
    "else:\n",
    "    print(\"Reprovado!\")"
   ]
  },
  {
   "cell_type": "code",
   "execution_count": null,
   "metadata": {},
   "outputs": [],
   "source": [
    "a = float(input(\"Escreva A1: \", ))\n",
    "\n",
    "b = float(input(\"Escreva A2: \", ))\n",
    "\n",
    "c = float(input(\"Escreva A3: \", ))\n",
    "\n",
    "if a > b and c:\n",
    "    print(a)\n",
    "elif b > c and a:\n",
    "    print(b)\n",
    "elif c > a and b:\n",
    "    print(c)"
   ]
  },
  {
   "cell_type": "code",
   "execution_count": null,
   "metadata": {},
   "outputs": [],
   "source": [
    "\n",
    "a = float(input(\"Escreva A1: \", ))\n",
    "\n",
    "b = float(input(\"Escreva A2: \", ))\n",
    "\n",
    "c = float(input(\"Escreva A3: \", ))\n",
    "\n",
    "\n",
    "if a > b and c:\n",
    "    print(a)\n",
    "elif b > c and a:\n",
    "    print(b)\n",
    "elif c > a and b:\n",
    "    print(c)\n",
    "\n",
    "if a < b and c:\n",
    "    print(a)\n",
    "elif b < c and a:\n",
    "    print(b)\n",
    "elif c < b and a:\n",
    "    print(c)"
   ]
  },
  {
   "cell_type": "code",
   "execution_count": null,
   "metadata": {},
   "outputs": [],
   "source": [
    "a = float(input(\"Informe o valor do Produto A: \", ))\n",
    "b = float(input(\"Informe o valor do Produto B: \", ))\n",
    "c = float(input(\"Informe o valor do Produto C: \", ))\n",
    "\n",
    "if a < b and c:\n",
    "    print(\"Você deverá comprar o produto de valor: \", a)\n",
    "elif b < c and a:\n",
    "    print(\"Você deverá comprar o produto de valor: \", b)\n",
    "elif c < b and a:\n",
    "    print(\"Você deverá comprar o produto de valor: \", c)"
   ]
  },
  {
   "cell_type": "code",
   "execution_count": null,
   "metadata": {},
   "outputs": [],
   "source": [
    "a = int(input(\"Escreva A1: \", ))\n",
    "\n",
    "b = int(input(\"Escreva A2: \", ))\n",
    "\n",
    "c = float(input(\"Escreva A3: \", ))\n",
    "\n",
    "lista = [a, b, c]\n",
    "\n",
    "lista.sort()\n",
    "\n",
    "print(lista)\n"
   ]
  },
  {
   "cell_type": "code",
   "execution_count": null,
   "metadata": {},
   "outputs": [],
   "source": [
    "T = input(\"Informe o turno em que você estuda: \", )\n",
    "\n",
    "if T == 'M':\n",
    "    print(\"Olá, bom dia! Seja bem-vindo.\")\n",
    "elif T == 'V':\n",
    "    print(\"Olá, boa tarde! Seja bem-vindo.\")\n",
    "elif T == 'N':\n",
    "    print(\"Olá, boa noite! Seja bem-vindo.\")\n",
    "else:\n",
    "    print(\"Informação incorreta. Informe M(Matutino), V(Vespertino) ou N(Noturno).\")\n",
    "\n"
   ]
  },
  {
   "cell_type": "code",
   "execution_count": null,
   "metadata": {},
   "outputs": [],
   "source": [
    "S = int(input(\"Informe o seu salário: R$ \", ))\n",
    "\n",
    "print(\"Salário antes do reajuste:R$ \", S)\n",
    "\n",
    "if S < 280:\n",
    "    print(\"O reajuste salarial será de: 20%\")\n",
    "    print(\"Valor do aumento em R$: \", int(S) * (0.20))\n",
    "    print(\"Seu salário em 2019 será: R$ \", int(S) + (int(S) * (0.20)))\n",
    "elif S < 700:\n",
    "    print(\"O reajuste salarial será de: 15%\")\n",
    "    print(\"O valor do aumento em R$: \", int(S) * (0.15))\n",
    "    print(\"Seu salário em 2019 será: R$ \", int(S) + (int(S) * (0.15)))\n",
    "elif S > 700 and S <= 1500:\n",
    "    print(\"O reajuste salarial será de: 10%\")\n",
    "    print(\"O valor do aumento em R$: \", int(S) * (0.10))\n",
    "    print(\"Seu salário em 2019 será: R$ \", int(S) + (int(S) * (0.10)))\n",
    "elif S > 1500:\n",
    "    print(\"O reajuste salarial será de: 5%\")\n",
    "    print(\"O valor do aumento em R$: \", int(S) * (0.05))\n",
    "    print(\"Seu salário em 2019 será: R$ \", int(S) + (int(S) * (0.05)))"
   ]
  },
  {
   "cell_type": "code",
   "execution_count": null,
   "metadata": {},
   "outputs": [],
   "source": [
    "H = int(input(\"Informe a quantidade de horas trabalhadas: \", ))\n",
    "V = int(input(\"Informe o Valor de hora trabalhada: \", ))\n",
    "\n",
    "S = V * H\n",
    "\n",
    "print(\"Seu salário bruto é de:R$ \", S)\n",
    "\n",
    "INSS = (int(S) * float (0.10))\n",
    "FGTS = (int(S) * float(0.11))\n",
    "SIND = (int(S) * float(0.03))\n",
    "\n",
    "if S < 900:\n",
    "    print(\"Valor descontado por IR: Isento\")\n",
    "    print(\"Valor descontado por INSS:R$ \", INSS)\n",
    "    print(\"Valor aportado de FGTS pelo contratante:R$ \", FGTS)\n",
    "    print(\"Valor descontado por taxa sindical:R$ \", SIND)\n",
    "    print(\"Valor salário líquido:R$ \", (S - INSS - SIND))\n",
    "\n",
    "IR = (S * (0.05))\n",
    "if S > 900 and S < 1500:\n",
    "    print(\"Valor descontado por IR:R$ \", IR)\n",
    "    print(\"Valor descontado por INSS:R$ \", INSS)\n",
    "    print(\"Valor aportado de FGTS pelo contratante:R$ \", FGTS)\n",
    "    print(\"Valor descontado por taxa sindical:R$ \", SIND)\n",
    "    print(\"Valor salário líquido:R$ \", (S - IR - INSS - SIND))\n",
    "    \n",
    "IR = (S * (0.10))\n",
    "if S > 1500 and S < 2500:\n",
    "    print(\"Valor descontado por IR:R$ \", IR)\n",
    "    print(\"Valor descontado por INSS:R$ \", INSS)\n",
    "    print(\"Valor aportado de FGTS pelo contratante:R$ \", FGTS)\n",
    "    print(\"Valor descontado por taxa sindical:R$ \", SIND)\n",
    "    print(\"Valor salário líquido:R$ \", (S - IR - INSS - SIND))\n",
    "\n",
    "IR = (S * (0.20))\n",
    "if S > 2500:\n",
    "    print(\"Valor descontado por IR:R$ \", IR)\n",
    "    print(\"Valor descontado por INSS:R$ \", INSS)\n",
    "    print(\"Valor aportado de FGTS pelo contratante:R$ \", FGTS)\n",
    "    print(\"Valor descontado por taxa sindical:R$ \", SIND)\n",
    "    print(\"Valor salário líquido:R$ \", (S - IR - INSS - SIND))"
   ]
  },
  {
   "cell_type": "code",
   "execution_count": null,
   "metadata": {},
   "outputs": [],
   "source": [
    "i = int(input(\"Informe o número do dia trabalho: \", ))\n",
    "\n",
    "lista = ['Domingo', 'segunda-feira', 'terça-feira', 'quarta-feira', 'quinta-feira', 'sexta-feira', 'sábado']\n",
    "\n",
    "if i > 6:\n",
    "    print(\"Número inválido. Digite um número de 0 a 6\")\n",
    "    \n",
    "else:\n",
    "    print(lista[i])\n",
    "\n"
   ]
  },
  {
   "cell_type": "code",
   "execution_count": null,
   "metadata": {},
   "outputs": [],
   "source": [
    "A = float(input(\"Informe a nota da Matéria A: \", ))\n",
    "B = float(input(\"Informe a nota da Matéria B: \", ))\n",
    "\n",
    "N = (float(A + B ) / 2)\n",
    "\n",
    "print(\"Nota Matéria A: \", A)\n",
    "print(\"Nota Matéria B: \", B)\n",
    "print(\"Média final: \", N)\n",
    "\n",
    "if N > 9.0 and N <=10.0:\n",
    "    print(\"Conceito de Nota: A\")\n",
    "    print(\"Aluno aprovado!\")\n",
    "elif N > 7.5 and N <=9.0:\n",
    "    print(\"Conceito de Nota: B\")\n",
    "    print(\"Aluno aprovado!\")\n",
    "elif N > 6.0 and N <=7.5:\n",
    "    print(\"Conceito de Nota: C\")\n",
    "    print(\"Aluno aprovado!\")\n",
    "elif N > 4.0 and N <=6.0:\n",
    "    print(\"Conceito de Nota: D\")\n",
    "    print(\"Aluno reprovado!\")\n",
    "elif N <= 4.0:\n",
    "    print(\"Conceito de Nota: E\")\n",
    "    print(\"Aluno reprovado!\")"
   ]
  },
  {
   "cell_type": "code",
   "execution_count": null,
   "metadata": {},
   "outputs": [],
   "source": [
    "A = int(input(\"informe o lado A: \", ))\n",
    "B = int(input(\"Informe o lado B: \", ))\n",
    "C = int(input(\"Informe o lado C: \", ))\n",
    "\n",
    "if (A + B) > C or (A + C) > B or (B + C) > A:\n",
    "    print(\"A figura é um triângulo\")\n",
    "\n",
    "if A == B and A == C and B == C:\n",
    "    print(\"Triângulo Equilátero\")\n",
    "    \n",
    "elif A == B or A == C or B == C:\n",
    "    print(\"Triângulo Isósceles\")\n",
    "\n",
    "elif A != B or A != C or B != C:\n",
    "    print(\"Triângulo Escaleno\")"
   ]
  },
  {
   "cell_type": "code",
   "execution_count": null,
   "metadata": {},
   "outputs": [],
   "source": [
    "a = int(input(\"Matéria A: \", ))\n",
    "b = int(input(\"Matéria B: \", ))\n",
    "c = int(input(\"Matéria C: \", ))\n",
    "\n",
    "N = ((a + b + c) / 3)\n",
    "\n",
    "print(\"A nota da Matéria A é: \", a)\n",
    "print(\"A nota da Matéria B é: \", b)\n",
    "print(\"A nota dq Matéria C é: \", c)\n",
    "\n",
    "print(\"A média global do aluno é: \", N)\n",
    "\n",
    "if N == 10:\n",
    "    print(\"Aprovado com distinção\")\n",
    "elif N >=7:\n",
    "    print(\"Aprovado\")\n",
    "elif N < 7:\n",
    "    print(\"Reprovado\")"
   ]
  },
  {
   "cell_type": "code",
   "execution_count": null,
   "metadata": {},
   "outputs": [],
   "source": [
    "A = int(input(\"digite o número: \" , ))\n",
    "\n",
    "if (A % 2 ) == 0:\n",
    "    print (\"Este número é par\")\n",
    "else:\n",
    "    print(\"Este número é impar\")\n"
   ]
  },
  {
   "cell_type": "code",
   "execution_count": 20,
   "metadata": {},
   "outputs": [
    {
     "name": "stdout",
     "output_type": "stream",
     "text": [
      "Telefonou para a vítima? S\n",
      "Esteve no local do crime? S\n",
      "Mora perto da vítima? S\n",
      "Devia dinheiro para a vítima? S\n",
      "Já trabalhou para a vítima? S\n",
      "Pontuação de resposta:  5\n",
      "Assassino\n"
     ]
    }
   ],
   "source": [
    "a = input(\"Telefonou para a vítima? \", )\n",
    "b = input(\"Esteve no local do crime? \", )\n",
    "c = input(\"Mora perto da vítima? \", )\n",
    "d = input(\"Devia dinheiro para a vítima? \", )\n",
    "e = input(\"Já trabalhou para a vítima? \", )\n",
    "\n",
    "if a == 'S':\n",
    "    a = 1\n",
    "else:\n",
    "    a = 0\n",
    "if b == 'S':\n",
    "    b = 1\n",
    "else:\n",
    "    b = 0\n",
    "if c == 'S':\n",
    "    c = 1\n",
    "else:\n",
    "    c = 0\n",
    "if d == 'S':\n",
    "    d = 1\n",
    "else:\n",
    "    d = 0\n",
    "if e == 'S':\n",
    "    e = 1\n",
    "else:\n",
    "    e = 0\n",
    "    \n",
    "R = (a + b + c + d + e)\n",
    "print(\"Pontuação de resposta: \", R)\n",
    "\n",
    "if R < 2:\n",
    "    print(\"Inocente\")\n",
    "elif R == 2:\n",
    "    print(\"Suspeito\")\n",
    "elif R >=3 and R <= 4:\n",
    "    print(\"Cúmplice\")\n",
    "elif R == 5:\n",
    "    print(\"Assassino\")"
   ]
  },
  {
   "cell_type": "code",
   "execution_count": 24,
   "metadata": {},
   "outputs": [
    {
     "name": "stdout",
     "output_type": "stream",
     "text": [
      "Insira sua litragem de alcool: 20\n",
      "Insira sua litragem de gasolina: 20\n",
      "Desconto no valor de:R$   0.056999999999999995 para abastecimento com alcool\n",
      "Valor a ser pago:R$  37.943 para abastecimento com alcool\n",
      "Desconto no valor de:R$   0.1 para abastecimento com gasolina\n",
      "Valor a ser pago:R$  49.9 para abastecimento com gasolina\n"
     ]
    }
   ],
   "source": [
    "a = int(input(\"Insira sua litragem de alcool: \", ))\n",
    "b = int(input(\"Insira sua litragem de gasolina: \", ))\n",
    "\n",
    "A = float(1.90)\n",
    "G = float(2.50)\n",
    "\n",
    "if a <= 20:\n",
    "    print(\"Desconto no valor de:R$  \", float(A * 0.03), \"para abastecimento com alcool\")\n",
    "    print(\"Valor a ser pago:R$ \", (A*a) - (A *0.03), \"para abastecimento com alcool\")\n",
    "if a > 20:\n",
    "    print(\"Desconto no valor de:R$ \", float(A * 0.05), \"para abastecimento com alcool\")\n",
    "    print(\"Valor a ser pago:R$ \", float(A*a) - (A *0.05), \"para abastecimento com alcool\")\n",
    "    \n",
    "if b <=20:\n",
    "    print(\"Desconto no valor de:R$  \", float(G * 0.04), \"para abastecimento com gasolina\")\n",
    "    print(\"Valor a ser pago:R$ \", (G*b) - (G *0.04), \"para abastecimento com gasolina\") \n",
    "    \n",
    "if b > 20:\n",
    "    print(\"Desconto no valor de:R$  \", float(A * 0.06), \"para abastecimento com gasolina\")\n",
    "    print(\"Valor a ser pago:R$ \", (A*a) - (A *0.06), \"para abastecimento com gasolina\")"
   ]
  },
  {
   "cell_type": "code",
   "execution_count": null,
   "metadata": {},
   "outputs": [],
   "source": []
  },
  {
   "cell_type": "code",
   "execution_count": null,
   "metadata": {},
   "outputs": [],
   "source": []
  },
  {
   "cell_type": "markdown",
   "metadata": {},
   "source": []
  }
 ],
 "metadata": {
  "kernelspec": {
   "display_name": "Python 3",
   "language": "python",
   "name": "python3"
  },
  "language_info": {
   "codemirror_mode": {
    "name": "ipython",
    "version": 3
   },
   "file_extension": ".py",
   "mimetype": "text/x-python",
   "name": "python",
   "nbconvert_exporter": "python",
   "pygments_lexer": "ipython3",
   "version": "3.7.0"
  }
 },
 "nbformat": 4,
 "nbformat_minor": 2
}
